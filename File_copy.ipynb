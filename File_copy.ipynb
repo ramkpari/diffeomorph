{
 "cells": [
  {
   "cell_type": "raw",
   "metadata": {},
   "source": [
    "Filter and copy scrambled image files based on their file name using Glob to find and save images \n",
    "\n",
    "Based on the image scrambling code"
   ]
  },
  {
   "cell_type": "code",
   "execution_count": 11,
   "metadata": {},
   "outputs": [],
   "source": [
    "# Initiallization \n",
    "\n",
    "import os\n",
    "import glob\n",
    "from PIL import Image\n",
    "import imageio"
   ]
  },
  {
   "cell_type": "code",
   "execution_count": 9,
   "metadata": {},
   "outputs": [],
   "source": [
    "# Loading file with specified criteria using Glob. Path included in criteria\n",
    "\n",
    "mylist = [f for f in glob.glob(r\"C:\\Users\\Ram\\OneDrive - University of Sussex\\Desktop\\LZ correlation\\LZ_correlation\\scrambled\\*80.*\")]\n",
    "#print(mylist)\n",
    "\n",
    "loop_len = range(len(mylist))\n",
    "\n",
    "#print(len(mylist))\n",
    "\n",
    "# File path where all the files need to be saved in \n",
    "final_filepath = r\"C:\\Users\\Ram\\OneDrive - University of Sussex\\Desktop\\LZ correlation\\LZ_correlation\\final_scrambled\""
   ]
  },
  {
   "cell_type": "code",
   "execution_count": 13,
   "metadata": {},
   "outputs": [],
   "source": [
    "# Recursive loop to load and save images accordingly\n",
    "\n",
    "\n",
    "for x in loop_len:\n",
    "    \n",
    "    img = Image.open(mylist[x])\n",
    "    final_filename = \"%s/scrambled_%s.jpg\" % (final_filepath,x+1)\n",
    "    imageio.imwrite(final_filename, img)"
   ]
  },
  {
   "cell_type": "code",
   "execution_count": null,
   "metadata": {},
   "outputs": [],
   "source": []
  }
 ],
 "metadata": {
  "kernelspec": {
   "display_name": "Python 3",
   "language": "python",
   "name": "python3"
  },
  "language_info": {
   "codemirror_mode": {
    "name": "ipython",
    "version": 3
   },
   "file_extension": ".py",
   "mimetype": "text/x-python",
   "name": "python",
   "nbconvert_exporter": "python",
   "pygments_lexer": "ipython3",
   "version": "3.7.9"
  }
 },
 "nbformat": 4,
 "nbformat_minor": 4
}
